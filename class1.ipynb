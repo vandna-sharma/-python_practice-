{
 "cells": [
  {
   "cell_type": "code",
   "execution_count": 1,
   "id": "9496a7b4",
   "metadata": {},
   "outputs": [
    {
     "name": "stdout",
     "output_type": "stream",
     "text": [
      "hello world\n"
     ]
    }
   ],
   "source": [
    "print(\"hello world\")"
   ]
  },
  {
   "cell_type": "code",
   "execution_count": 2,
   "id": "ac105469",
   "metadata": {},
   "outputs": [
    {
     "name": "stdout",
     "output_type": "stream",
     "text": [
      "vandna\n"
     ]
    }
   ],
   "source": [
    "print(\"vandna\")"
   ]
  },
  {
   "cell_type": "code",
   "execution_count": 3,
   "id": "b1cbde22",
   "metadata": {},
   "outputs": [
    {
     "name": "stdout",
     "output_type": "stream",
     "text": [
      "1298\n"
     ]
    }
   ],
   "source": [
    "print(\"1298\")"
   ]
  },
  {
   "cell_type": "code",
   "execution_count": 4,
   "id": "cd7cfc7f",
   "metadata": {},
   "outputs": [
    {
     "name": "stdout",
     "output_type": "stream",
     "text": [
      "full stack development\n"
     ]
    }
   ],
   "source": [
    "print(\"full stack development\")"
   ]
  },
  {
   "cell_type": "code",
   "execution_count": 5,
   "id": "3fa2e14b",
   "metadata": {},
   "outputs": [
    {
     "name": "stdout",
     "output_type": "stream",
     "text": [
      "pyhton 1878 javascript html\n"
     ]
    }
   ],
   "source": [
    "print(\"pyhton\",1878,\"javascript\",\"html\")"
   ]
  },
  {
   "cell_type": "code",
   "execution_count": 6,
   "id": "b79186b2",
   "metadata": {},
   "outputs": [],
   "source": [
    "#this is commment "
   ]
  },
  {
   "cell_type": "code",
   "execution_count": 7,
   "id": "cf0c7add",
   "metadata": {},
   "outputs": [],
   "source": [
    "# hash is udes for commenting "
   ]
  },
  {
   "cell_type": "code",
   "execution_count": 8,
   "id": "1417abd3",
   "metadata": {},
   "outputs": [],
   "source": [
    "v=15555"
   ]
  },
  {
   "cell_type": "code",
   "execution_count": 9,
   "id": "a5229ad4",
   "metadata": {},
   "outputs": [
    {
     "data": {
      "text/plain": [
       "int"
      ]
     },
     "execution_count": 9,
     "metadata": {},
     "output_type": "execute_result"
    }
   ],
   "source": [
    "type(v)"
   ]
  },
  {
   "cell_type": "code",
   "execution_count": 10,
   "id": "e0cb109c",
   "metadata": {},
   "outputs": [],
   "source": [
    "g=\"vandna\""
   ]
  },
  {
   "cell_type": "code",
   "execution_count": 11,
   "id": "265656d0",
   "metadata": {},
   "outputs": [
    {
     "data": {
      "text/plain": [
       "str"
      ]
     },
     "execution_count": 11,
     "metadata": {},
     "output_type": "execute_result"
    }
   ],
   "source": [
    "type(g)"
   ]
  },
  {
   "cell_type": "code",
   "execution_count": 12,
   "id": "c1646324",
   "metadata": {},
   "outputs": [
    {
     "name": "stdout",
     "output_type": "stream",
     "text": [
      "<class 'str'>\n"
     ]
    }
   ],
   "source": [
    "print(type(g))"
   ]
  },
  {
   "cell_type": "code",
   "execution_count": 13,
   "id": "0fcabadc",
   "metadata": {},
   "outputs": [],
   "source": [
    "v_12=\"vandna\""
   ]
  },
  {
   "cell_type": "code",
   "execution_count": 14,
   "id": "52a1dfb6",
   "metadata": {},
   "outputs": [
    {
     "data": {
      "text/plain": [
       "str"
      ]
     },
     "execution_count": 14,
     "metadata": {},
     "output_type": "execute_result"
    }
   ],
   "source": [
    "type(\"v_12\")"
   ]
  },
  {
   "cell_type": "code",
   "execution_count": 15,
   "id": "34fb2a9d",
   "metadata": {},
   "outputs": [
    {
     "name": "stdout",
     "output_type": "stream",
     "text": [
      "<class 'str'>\n"
     ]
    }
   ],
   "source": [
    "print(type(v_12))"
   ]
  },
  {
   "cell_type": "code",
   "execution_count": 16,
   "id": "e31a6526",
   "metadata": {},
   "outputs": [],
   "source": [
    "#variable is used to store the values\n"
   ]
  },
  {
   "cell_type": "code",
   "execution_count": 17,
   "id": "931e08da",
   "metadata": {},
   "outputs": [
    {
     "name": "stdout",
     "output_type": "stream",
     "text": [
      "variable cannot be start with digit and special character\n"
     ]
    }
   ],
   "source": [
    "print(\"variable cannot be start with digit and special character\")"
   ]
  },
  {
   "cell_type": "code",
   "execution_count": 18,
   "id": "87aeb36e",
   "metadata": {},
   "outputs": [],
   "source": [
    "_v=15"
   ]
  },
  {
   "cell_type": "code",
   "execution_count": 19,
   "id": "100fb65f",
   "metadata": {},
   "outputs": [
    {
     "name": "stdout",
     "output_type": "stream",
     "text": [
      "<class 'int'>\n"
     ]
    }
   ],
   "source": [
    "print(type(_v))"
   ]
  },
  {
   "cell_type": "code",
   "execution_count": 20,
   "id": "d554f7f6",
   "metadata": {},
   "outputs": [
    {
     "ename": "SyntaxError",
     "evalue": "invalid syntax (2121561228.py, line 1)",
     "output_type": "error",
     "traceback": [
      "\u001b[1;36m  Cell \u001b[1;32mIn[20], line 1\u001b[1;36m\u001b[0m\n\u001b[1;33m    $v=568\u001b[0m\n\u001b[1;37m    ^\u001b[0m\n\u001b[1;31mSyntaxError\u001b[0m\u001b[1;31m:\u001b[0m invalid syntax\n"
     ]
    }
   ],
   "source": [
    "$v=568"
   ]
  },
  {
   "cell_type": "code",
   "execution_count": 21,
   "id": "4fa5a09f",
   "metadata": {},
   "outputs": [
    {
     "ename": "TypeError",
     "evalue": "id() takes exactly one argument (0 given)",
     "output_type": "error",
     "traceback": [
      "\u001b[1;31m---------------------------------------------------------------------------\u001b[0m",
      "\u001b[1;31mTypeError\u001b[0m                                 Traceback (most recent call last)",
      "Cell \u001b[1;32mIn[21], line 1\u001b[0m\n\u001b[1;32m----> 1\u001b[0m \u001b[38;5;28mid\u001b[39m()\n",
      "\u001b[1;31mTypeError\u001b[0m: id() takes exactly one argument (0 given)"
     ]
    }
   ],
   "source": [
    "id()"
   ]
  },
  {
   "cell_type": "code",
   "execution_count": 22,
   "id": "1e1f4da6",
   "metadata": {},
   "outputs": [
    {
     "data": {
      "text/plain": [
       "140734601008360"
      ]
     },
     "execution_count": 22,
     "metadata": {},
     "output_type": "execute_result"
    }
   ],
   "source": [
    "id(_v)"
   ]
  },
  {
   "cell_type": "code",
   "execution_count": 23,
   "id": "3fffb5d8",
   "metadata": {},
   "outputs": [],
   "source": [
    "#dynamic in nature changable"
   ]
  },
  {
   "cell_type": "code",
   "execution_count": 24,
   "id": "daf0db4e",
   "metadata": {},
   "outputs": [],
   "source": [
    "#type casting covert data types"
   ]
  },
  {
   "cell_type": "code",
   "execution_count": 25,
   "id": "57d32a44",
   "metadata": {},
   "outputs": [
    {
     "name": "stdout",
     "output_type": "stream",
     "text": [
      "enter your namevandna sharma\n"
     ]
    }
   ],
   "source": [
    "t=input(\"enter your name\")"
   ]
  },
  {
   "cell_type": "code",
   "execution_count": 26,
   "id": "af89e7bb",
   "metadata": {},
   "outputs": [
    {
     "data": {
      "text/plain": [
       "str"
      ]
     },
     "execution_count": 26,
     "metadata": {},
     "output_type": "execute_result"
    }
   ],
   "source": [
    "type(t)"
   ]
  },
  {
   "cell_type": "code",
   "execution_count": 27,
   "id": "d8a01c61",
   "metadata": {},
   "outputs": [
    {
     "name": "stdout",
     "output_type": "stream",
     "text": [
      "enter your birthday date4\n"
     ]
    }
   ],
   "source": [
    "v=int(input(\"enter your birthday date\"))"
   ]
  },
  {
   "cell_type": "code",
   "execution_count": 28,
   "id": "bef15ca7",
   "metadata": {},
   "outputs": [
    {
     "data": {
      "text/plain": [
       "int"
      ]
     },
     "execution_count": 28,
     "metadata": {},
     "output_type": "execute_result"
    }
   ],
   "source": [
    "type(v)"
   ]
  },
  {
   "cell_type": "code",
   "execution_count": 29,
   "id": "e8823091",
   "metadata": {},
   "outputs": [],
   "source": [
    "f=complex(v)"
   ]
  },
  {
   "cell_type": "code",
   "execution_count": 30,
   "id": "e92062be",
   "metadata": {},
   "outputs": [
    {
     "name": "stdout",
     "output_type": "stream",
     "text": [
      "f\n"
     ]
    }
   ],
   "source": [
    "print('f')"
   ]
  },
  {
   "cell_type": "code",
   "execution_count": 31,
   "id": "3447a96a",
   "metadata": {},
   "outputs": [
    {
     "name": "stdout",
     "output_type": "stream",
     "text": [
      "(4+0j)\n"
     ]
    }
   ],
   "source": [
    "print(f)"
   ]
  },
  {
   "cell_type": "markdown",
   "id": "5f23c9ed",
   "metadata": {},
   "source": [
    "data types\n"
   ]
  },
  {
   "cell_type": "markdown",
   "id": "3492ce10",
   "metadata": {},
   "source": [
    "type casting\n",
    "@ to convert data types"
   ]
  },
  {
   "cell_type": "code",
   "execution_count": 32,
   "id": "d57369cc",
   "metadata": {},
   "outputs": [
    {
     "name": "stdout",
     "output_type": "stream",
     "text": [
      "2222935776752\n"
     ]
    }
   ],
   "source": [
    "print(id(f))"
   ]
  },
  {
   "cell_type": "code",
   "execution_count": 33,
   "id": "188154ca",
   "metadata": {},
   "outputs": [
    {
     "name": "stdout",
     "output_type": "stream",
     "text": [
      "2222935776752\n"
     ]
    }
   ],
   "source": [
    "print(id(f))"
   ]
  },
  {
   "cell_type": "code",
   "execution_count": 34,
   "id": "ee36f175",
   "metadata": {},
   "outputs": [],
   "source": [
    "g=10+4j"
   ]
  },
  {
   "cell_type": "code",
   "execution_count": 35,
   "id": "5a1018f9",
   "metadata": {},
   "outputs": [
    {
     "name": "stdout",
     "output_type": "stream",
     "text": [
      "(10+4j)\n"
     ]
    }
   ],
   "source": [
    "print(g)"
   ]
  },
  {
   "cell_type": "code",
   "execution_count": 36,
   "id": "d2e6ec51",
   "metadata": {},
   "outputs": [
    {
     "name": "stdout",
     "output_type": "stream",
     "text": [
      "<class 'complex'>\n"
     ]
    }
   ],
   "source": [
    "print(type(g))"
   ]
  },
  {
   "cell_type": "code",
   "execution_count": 37,
   "id": "d5e93c7a",
   "metadata": {},
   "outputs": [
    {
     "name": "stdout",
     "output_type": "stream",
     "text": [
      "2222935781520\n"
     ]
    }
   ],
   "source": [
    "print(id(g))"
   ]
  },
  {
   "cell_type": "code",
   "execution_count": 38,
   "id": "940a5f15",
   "metadata": {},
   "outputs": [
    {
     "data": {
      "text/plain": [
       "4.0"
      ]
     },
     "execution_count": 38,
     "metadata": {},
     "output_type": "execute_result"
    }
   ],
   "source": [
    "g.imag"
   ]
  },
  {
   "cell_type": "code",
   "execution_count": 39,
   "id": "afd308a8",
   "metadata": {},
   "outputs": [
    {
     "data": {
      "text/plain": [
       "10.0"
      ]
     },
     "execution_count": 39,
     "metadata": {},
     "output_type": "execute_result"
    }
   ],
   "source": [
    "g.real"
   ]
  },
  {
   "cell_type": "code",
   "execution_count": 40,
   "id": "1ee13084",
   "metadata": {},
   "outputs": [
    {
     "name": "stdout",
     "output_type": "stream",
     "text": [
      "enter your  coursefull stack development\n"
     ]
    }
   ],
   "source": [
    "course=input(\"enter your  course\")"
   ]
  },
  {
   "cell_type": "code",
   "execution_count": 42,
   "id": "8efafffe",
   "metadata": {},
   "outputs": [
    {
     "name": "stdout",
     "output_type": "stream",
     "text": [
      "enter your date of enrollment3\n"
     ]
    }
   ],
   "source": [
    "d_o_e=int(input(\"enter your date of enrollment\"))"
   ]
  },
  {
   "cell_type": "code",
   "execution_count": 43,
   "id": "50e79898",
   "metadata": {},
   "outputs": [
    {
     "name": "stdout",
     "output_type": "stream",
     "text": [
      "<class 'str'>\n"
     ]
    }
   ],
   "source": [
    "print(type(\"d_o_e\"))"
   ]
  },
  {
   "cell_type": "code",
   "execution_count": 44,
   "id": "10b40c23",
   "metadata": {},
   "outputs": [
    {
     "name": "stdout",
     "output_type": "stream",
     "text": [
      "140734601007976\n"
     ]
    }
   ],
   "source": [
    "print(id(d_o_e))"
   ]
  },
  {
   "cell_type": "code",
   "execution_count": null,
   "id": "d09e746f",
   "metadata": {},
   "outputs": [],
   "source": []
  },
  {
   "cell_type": "code",
   "execution_count": null,
   "id": "508d6c05",
   "metadata": {},
   "outputs": [],
   "source": []
  },
  {
   "cell_type": "code",
   "execution_count": null,
   "id": "0bccf497",
   "metadata": {},
   "outputs": [],
   "source": []
  },
  {
   "cell_type": "markdown",
   "id": "efaf7c5b",
   "metadata": {},
   "source": [
    "1. Arithmetic operators    == +, -, , /, // ,*, %\n",
    "2. Comparision Operators   == > ,>=, <, <=, ==, !=\n",
    "3. Logical Operators       == AND, OR, NOT\n",
    "4. Bitwsie Operators       == Bitwsie AND, Bitwise OR, Bitwsie XOR,\n",
    "5. Assignment operators    ==  +=, -=, =, /=, //=, *=, %=,\n",
    "6. special operators      == \n",
    "   1. membership operator = in , not\n",
    "   2. Special Operators = is, is not"
   ]
  },
  {
   "cell_type": "markdown",
   "id": "d047e2fa",
   "metadata": {},
   "source": [
    "1. Arithmetic operators    == +, -, , /, // ,*, %\n",
    "2. Comparision Operators   == > ,>=, <, <=, ==, !=\n",
    "3. Logical Operators       == AND, OR, NOT\n",
    "4. Bitwsie Operators       == Bitwsie AND, Bitwise OR, Bitwsie XOR,\n",
    "5. Assignment operators    ==  +=, -=, =, /=, //=, *=, %=,\n",
    "6. special operators      == \n",
    "   1. membership operator = in , not\n",
    "   2. Special Operators = is, is not"
   ]
  },
  {
   "cell_type": "markdown",
   "id": "fa4a684d",
   "metadata": {},
   "source": [
    "1. Arithmetic operators    == +, -, , /, // ,*, %\n",
    "2. Comparision Operators   == > ,>=, <, <=, ==, !=\n",
    "3. Logical Operators       == AND, OR, NOT\n",
    "4. Bitwsie Operators       == Bitwsie AND, Bitwise OR, Bitwsie XOR,\n",
    "5. Assignment operators    ==  +=, -=, =, /=, //=, *=, %=,\n",
    "6. special operators      == \n",
    "   1. membership operator = in , not\n",
    "   2. Special Operators = is, is not"
   ]
  },
  {
   "cell_type": "markdown",
   "id": "1fc6f75d",
   "metadata": {},
   "source": [
    "1. Arithmetic operators    == +, -, , /, // ,*, %\n",
    "2. Comparision Operators   == > ,>=, <, <=, ==, !=\n",
    "3. Logical Operators       == AND, OR, NOT\n",
    "4. Bitwsie Operators       == Bitwsie AND, Bitwise OR, Bitwsie XOR,\n",
    "5. Assignment operators    ==  +=, -=, =, /=, //=, *=, %=,\n",
    "6. special operators      == \n",
    "   1. membership operator = in , not\n",
    "   2. Special Operators = is, is not"
   ]
  },
  {
   "cell_type": "markdown",
   "id": "d66d4ffc",
   "metadata": {},
   "source": [
    "1. Arithmetic operators    == +, -, , /, // ,*, %\n",
    "2. Comparision Operators   == > ,>=, <, <=, ==, !=\n",
    "3. Logical Operators       == AND, OR, NOT\n",
    "4. Bitwsie Operators       == Bitwsie AND, Bitwise OR, Bitwsie XOR,\n",
    "5. Assignment operators    ==  +=, -=, =, /=, //=, *=, %=,\n",
    "6. special operators      == \n",
    "   1. membership operator = in , not\n",
    "   2. Special Operators = is, is not"
   ]
  },
  {
   "cell_type": "code",
   "execution_count": 1,
   "id": "bde01ee3",
   "metadata": {},
   "outputs": [
    {
     "data": {
      "text/plain": [
       "True"
      ]
     },
     "execution_count": 1,
     "metadata": {},
     "output_type": "execute_result"
    }
   ],
   "source": [
    "13<15"
   ]
  },
  {
   "cell_type": "code",
   "execution_count": 2,
   "id": "0e0f4aaa",
   "metadata": {},
   "outputs": [
    {
     "data": {
      "text/plain": [
       "True"
      ]
     },
     "execution_count": 2,
     "metadata": {},
     "output_type": "execute_result"
    }
   ],
   "source": [
    "(15>12) and (12>10)"
   ]
  },
  {
   "cell_type": "code",
   "execution_count": 3,
   "id": "2c2d8072",
   "metadata": {},
   "outputs": [
    {
     "data": {
      "text/plain": [
       "False"
      ]
     },
     "execution_count": 3,
     "metadata": {},
     "output_type": "execute_result"
    }
   ],
   "source": [
    "(10<5) or (78>98)"
   ]
  },
  {
   "cell_type": "code",
   "execution_count": 4,
   "id": "0061ea3c",
   "metadata": {},
   "outputs": [
    {
     "data": {
      "text/plain": [
       "True"
      ]
     },
     "execution_count": 4,
     "metadata": {},
     "output_type": "execute_result"
    }
   ],
   "source": [
    "not((10<5) or (78>98))"
   ]
  },
  {
   "cell_type": "code",
   "execution_count": 5,
   "id": "f6a4a2d3",
   "metadata": {},
   "outputs": [
    {
     "data": {
      "text/plain": [
       "True"
      ]
     },
     "execution_count": 5,
     "metadata": {},
     "output_type": "execute_result"
    }
   ],
   "source": [
    "(45>12) & (42>25)"
   ]
  },
  {
   "cell_type": "code",
   "execution_count": 6,
   "id": "a7a2618d",
   "metadata": {},
   "outputs": [
    {
     "data": {
      "text/plain": [
       "True"
      ]
     },
     "execution_count": 6,
     "metadata": {},
     "output_type": "execute_result"
    }
   ],
   "source": [
    "(28<15) | (15<20)"
   ]
  },
  {
   "cell_type": "code",
   "execution_count": 7,
   "id": "7590093e",
   "metadata": {},
   "outputs": [
    {
     "ename": "NameError",
     "evalue": "name 'Xor' is not defined",
     "output_type": "error",
     "traceback": [
      "\u001b[1;31m---------------------------------------------------------------------------\u001b[0m",
      "\u001b[1;31mNameError\u001b[0m                                 Traceback (most recent call last)",
      "Cell \u001b[1;32mIn[7], line 1\u001b[0m\n\u001b[1;32m----> 1\u001b[0m Xor(\u001b[38;5;241m15\u001b[39m\u001b[38;5;241m>\u001b[39m\u001b[38;5;241m12\u001b[39m)\n",
      "\u001b[1;31mNameError\u001b[0m: name 'Xor' is not defined"
     ]
    }
   ],
   "source": [
    "Xor(15>12)"
   ]
  },
  {
   "cell_type": "code",
   "execution_count": 8,
   "id": "dca19eac",
   "metadata": {},
   "outputs": [
    {
     "ename": "NameError",
     "evalue": "name 'XOR' is not defined",
     "output_type": "error",
     "traceback": [
      "\u001b[1;31m---------------------------------------------------------------------------\u001b[0m",
      "\u001b[1;31mNameError\u001b[0m                                 Traceback (most recent call last)",
      "Cell \u001b[1;32mIn[8], line 1\u001b[0m\n\u001b[1;32m----> 1\u001b[0m XOR(\u001b[38;5;241m15\u001b[39m\u001b[38;5;241m>\u001b[39m\u001b[38;5;241m12\u001b[39m)\n",
      "\u001b[1;31mNameError\u001b[0m: name 'XOR' is not defined"
     ]
    }
   ],
   "source": [
    "XOR(15>12)"
   ]
  },
  {
   "cell_type": "code",
   "execution_count": 9,
   "id": "fb49d16f",
   "metadata": {},
   "outputs": [
    {
     "ename": "NameError",
     "evalue": "name 'XOR' is not defined",
     "output_type": "error",
     "traceback": [
      "\u001b[1;31m---------------------------------------------------------------------------\u001b[0m",
      "\u001b[1;31mNameError\u001b[0m                                 Traceback (most recent call last)",
      "Cell \u001b[1;32mIn[9], line 1\u001b[0m\n\u001b[1;32m----> 1\u001b[0m XOR(\u001b[38;5;28;01mTrue\u001b[39;00m)\n",
      "\u001b[1;31mNameError\u001b[0m: name 'XOR' is not defined"
     ]
    }
   ],
   "source": [
    "XOR(True)"
   ]
  },
  {
   "cell_type": "code",
   "execution_count": 10,
   "id": "21c46ceb",
   "metadata": {},
   "outputs": [
    {
     "data": {
      "text/plain": [
       "29"
      ]
     },
     "execution_count": 10,
     "metadata": {},
     "output_type": "execute_result"
    }
   ],
   "source": [
    "15^18"
   ]
  },
  {
   "cell_type": "code",
   "execution_count": 11,
   "id": "62e0fd91",
   "metadata": {},
   "outputs": [
    {
     "data": {
      "text/plain": [
       "4"
      ]
     },
     "execution_count": 11,
     "metadata": {},
     "output_type": "execute_result"
    }
   ],
   "source": [
    "14^10"
   ]
  },
  {
   "cell_type": "code",
   "execution_count": 12,
   "id": "b8e19fb7",
   "metadata": {},
   "outputs": [
    {
     "data": {
      "text/plain": [
       "True"
      ]
     },
     "execution_count": 12,
     "metadata": {},
     "output_type": "execute_result"
    }
   ],
   "source": [
    "12==12"
   ]
  },
  {
   "cell_type": "code",
   "execution_count": 13,
   "id": "43d10712",
   "metadata": {},
   "outputs": [],
   "source": [
    "h=10"
   ]
  },
  {
   "cell_type": "code",
   "execution_count": 14,
   "id": "6c0b604f",
   "metadata": {},
   "outputs": [],
   "source": [
    "h+=5"
   ]
  },
  {
   "cell_type": "code",
   "execution_count": 15,
   "id": "af558e33",
   "metadata": {},
   "outputs": [
    {
     "data": {
      "text/plain": [
       "15"
      ]
     },
     "execution_count": 15,
     "metadata": {},
     "output_type": "execute_result"
    }
   ],
   "source": [
    "h"
   ]
  },
  {
   "cell_type": "code",
   "execution_count": 16,
   "id": "d1cb2e6d",
   "metadata": {},
   "outputs": [],
   "source": [
    "h-=4"
   ]
  },
  {
   "cell_type": "code",
   "execution_count": 17,
   "id": "0a3ecf2e",
   "metadata": {},
   "outputs": [
    {
     "data": {
      "text/plain": [
       "11"
      ]
     },
     "execution_count": 17,
     "metadata": {},
     "output_type": "execute_result"
    }
   ],
   "source": [
    "h"
   ]
  },
  {
   "cell_type": "code",
   "execution_count": 18,
   "id": "98ab1135",
   "metadata": {},
   "outputs": [],
   "source": [
    "h*=20"
   ]
  },
  {
   "cell_type": "code",
   "execution_count": 19,
   "id": "429fb9d1",
   "metadata": {},
   "outputs": [
    {
     "data": {
      "text/plain": [
       "220"
      ]
     },
     "execution_count": 19,
     "metadata": {},
     "output_type": "execute_result"
    }
   ],
   "source": [
    "h"
   ]
  },
  {
   "cell_type": "code",
   "execution_count": 20,
   "id": "319f86d4",
   "metadata": {},
   "outputs": [],
   "source": [
    "h/=10"
   ]
  },
  {
   "cell_type": "code",
   "execution_count": 21,
   "id": "ecee627f",
   "metadata": {},
   "outputs": [
    {
     "data": {
      "text/plain": [
       "22.0"
      ]
     },
     "execution_count": 21,
     "metadata": {},
     "output_type": "execute_result"
    }
   ],
   "source": [
    "h"
   ]
  },
  {
   "cell_type": "code",
   "execution_count": 22,
   "id": "3b3f4347",
   "metadata": {},
   "outputs": [],
   "source": [
    "#/ , // , &"
   ]
  },
  {
   "cell_type": "code",
   "execution_count": 23,
   "id": "d03746ad",
   "metadata": {},
   "outputs": [
    {
     "data": {
      "text/plain": [
       "2.0"
      ]
     },
     "execution_count": 23,
     "metadata": {},
     "output_type": "execute_result"
    }
   ],
   "source": [
    "12/6"
   ]
  },
  {
   "cell_type": "code",
   "execution_count": 24,
   "id": "79c1ac15",
   "metadata": {},
   "outputs": [
    {
     "data": {
      "text/plain": [
       "2"
      ]
     },
     "execution_count": 24,
     "metadata": {},
     "output_type": "execute_result"
    }
   ],
   "source": [
    "12//6"
   ]
  },
  {
   "cell_type": "code",
   "execution_count": 25,
   "id": "ffe5d476",
   "metadata": {},
   "outputs": [
    {
     "data": {
      "text/plain": [
       "0"
      ]
     },
     "execution_count": 25,
     "metadata": {},
     "output_type": "execute_result"
    }
   ],
   "source": [
    "12%6"
   ]
  },
  {
   "cell_type": "code",
   "execution_count": 26,
   "id": "28f819f4",
   "metadata": {},
   "outputs": [
    {
     "data": {
      "text/plain": [
       "'0b10'"
      ]
     },
     "execution_count": 26,
     "metadata": {},
     "output_type": "execute_result"
    }
   ],
   "source": [
    "bin(2)"
   ]
  },
  {
   "cell_type": "code",
   "execution_count": 27,
   "id": "1b2c9bf3",
   "metadata": {},
   "outputs": [
    {
     "data": {
      "text/plain": [
       "'0b100100110010011000001'"
      ]
     },
     "execution_count": 27,
     "metadata": {},
     "output_type": "execute_result"
    }
   ],
   "source": [
    "bin(1205441)"
   ]
  },
  {
   "cell_type": "code",
   "execution_count": 28,
   "id": "e06ac5ab",
   "metadata": {},
   "outputs": [
    {
     "data": {
      "text/plain": [
       "'0xf'"
      ]
     },
     "execution_count": 28,
     "metadata": {},
     "output_type": "execute_result"
    }
   ],
   "source": [
    "hex(15)"
   ]
  },
  {
   "cell_type": "code",
   "execution_count": 1,
   "id": "901ea1ec",
   "metadata": {},
   "outputs": [],
   "source": [
    "h=20"
   ]
  },
  {
   "cell_type": "code",
   "execution_count": 2,
   "id": "c7012981",
   "metadata": {},
   "outputs": [
    {
     "name": "stdout",
     "output_type": "stream",
     "text": [
      "20 is greater number\n"
     ]
    }
   ],
   "source": [
    "if h>18:\n",
    "    print(\"20 is greater number\")\n",
    "else:\n",
    "    print(\"20 is smaller number\")"
   ]
  },
  {
   "cell_type": "code",
   "execution_count": 5,
   "id": "0eef88a6",
   "metadata": {},
   "outputs": [
    {
     "name": "stdout",
     "output_type": "stream",
     "text": [
      "enter your age:20\n"
     ]
    }
   ],
   "source": [
    "age=int(input(\"enter your age:\"))"
   ]
  },
  {
   "cell_type": "code",
   "execution_count": 6,
   "id": "87c6eb45",
   "metadata": {},
   "outputs": [
    {
     "name": "stdout",
     "output_type": "stream",
     "text": [
      "you are eligible for voting\n"
     ]
    }
   ],
   "source": [
    "if age>18:\n",
    "    print(\"you are eligible for voting\")\n",
    "else:\n",
    "    print(\"you are not eligible  for voting\")"
   ]
  },
  {
   "cell_type": "code",
   "execution_count": 9,
   "id": "e3093632",
   "metadata": {},
   "outputs": [
    {
     "name": "stdout",
     "output_type": "stream",
     "text": [
      "enter your namevandna\n"
     ]
    }
   ],
   "source": [
    "name=input(\"enter your name\")"
   ]
  },
  {
   "cell_type": "code",
   "execution_count": 10,
   "id": "bc4fe734",
   "metadata": {},
   "outputs": [
    {
     "name": "stdout",
     "output_type": "stream",
     "text": [
      "your name is vandna\n"
     ]
    }
   ],
   "source": [
    "if name==\"vandna\":\n",
    "    print(\"your name is vandna\")\n",
    "else:\n",
    "    print(\"your name is not vandna\")"
   ]
  },
  {
   "cell_type": "code",
   "execution_count": 14,
   "id": "dc9125ce",
   "metadata": {},
   "outputs": [
    {
     "name": "stdout",
     "output_type": "stream",
     "text": [
      "enter any number-2\n"
     ]
    }
   ],
   "source": [
    "#elif\n",
    "num=int(input(\"enter any number\"))"
   ]
  },
  {
   "cell_type": "code",
   "execution_count": 15,
   "id": "b71d6bbb",
   "metadata": {},
   "outputs": [
    {
     "name": "stdout",
     "output_type": "stream",
     "text": [
      "its a nagative number\n"
     ]
    }
   ],
   "source": [
    "if num>0:\n",
    "    print(\"its  a positive number\")\n",
    "elif num==0:\n",
    "    print(\"its zero\")\n",
    "else:\n",
    "    print(\"its a nagative number\")"
   ]
  },
  {
   "cell_type": "code",
   "execution_count": 16,
   "id": "bd724e0c",
   "metadata": {},
   "outputs": [],
   "source": [
    "#nested if elif else"
   ]
  },
  {
   "cell_type": "code",
   "execution_count": 17,
   "id": "0f9a7310",
   "metadata": {},
   "outputs": [
    {
     "name": "stdout",
     "output_type": "stream",
     "text": [
      "enter any number78\n"
     ]
    }
   ],
   "source": [
    "num=int(input(\"enter any number\"))"
   ]
  },
  {
   "cell_type": "code",
   "execution_count": 18,
   "id": "80fbadd6",
   "metadata": {},
   "outputs": [
    {
     "name": "stdout",
     "output_type": "stream",
     "text": [
      "its graeter than zero\n"
     ]
    }
   ],
   "source": [
    "if num>=0:\n",
    "    if num==0:\n",
    "        print(\"its zero\")\n",
    "    else:\n",
    "        print(\"its graeter than zero\")\n",
    "else:\n",
    "    print(\"its a negative number\")"
   ]
  },
  {
   "cell_type": "code",
   "execution_count": 19,
   "id": "2c527eb0",
   "metadata": {},
   "outputs": [],
   "source": [
    "# write a program to find the largest number among three "
   ]
  },
  {
   "cell_type": "code",
   "execution_count": 1,
   "id": "2dcc259c",
   "metadata": {},
   "outputs": [
    {
     "name": "stdout",
     "output_type": "stream",
     "text": [
      "enter a number12\n",
      "enter second number15\n",
      "enter third number14\n"
     ]
    }
   ],
   "source": [
    "a=int(input(\"enter a number\"))\n",
    "b=int(input(\"enter second number\"))\n",
    "c=int(input(\"enter third number\"))"
   ]
  },
  {
   "cell_type": "code",
   "execution_count": 2,
   "id": "7ca28ef2",
   "metadata": {},
   "outputs": [
    {
     "name": "stdout",
     "output_type": "stream",
     "text": [
      "second number is the largest\n"
     ]
    }
   ],
   "source": [
    "if (a>b) and (a>c):\n",
    "    print(\"first number is the largest\")\n",
    "elif(b>c) and (b>a):\n",
    "    print(\"second number is the largest\")\n",
    "else:\n",
    "    print(\"third number is the largest\")"
   ]
  },
  {
   "cell_type": "code",
   "execution_count": 1,
   "id": "546ed9aa",
   "metadata": {},
   "outputs": [
    {
     "name": "stdout",
     "output_type": "stream",
     "text": [
      "2 4 6 8 10 12 14 16 18 20 "
     ]
    }
   ],
   "source": [
    "i=1\n",
    "while(i<=20):\n",
    "    if(i%2==0):\n",
    "        print(i,end=\" \")\n",
    "    i+=1"
   ]
  },
  {
   "cell_type": "code",
   "execution_count": 3,
   "id": "61de37d8",
   "metadata": {},
   "outputs": [
    {
     "name": "stdout",
     "output_type": "stream",
     "text": [
      "enter a number to find sum of n natural number15\n"
     ]
    }
   ],
   "source": [
    "n=int(input(\"enter a number to find sum of n natural number\"))"
   ]
  },
  {
   "cell_type": "code",
   "execution_count": null,
   "id": "4e451090",
   "metadata": {},
   "outputs": [],
   "source": [
    "s=0\n",
    "while True:\n",
    "    s+=n\n",
    "    n-=1\n",
    "    \n",
    "    if(n==0):\n",
    "        break"
   ]
  },
  {
   "cell_type": "code",
   "execution_count": null,
   "id": "bc322230",
   "metadata": {},
   "outputs": [],
   "source": [
    "print(n)"
   ]
  },
  {
   "cell_type": "code",
   "execution_count": null,
   "id": "92565769",
   "metadata": {},
   "outputs": [],
   "source": []
  },
  {
   "cell_type": "code",
   "execution_count": null,
   "id": "ba736ca4",
   "metadata": {},
   "outputs": [],
   "source": [
    "s=0\n",
    "while True:\n",
    "    s+=n\n",
    "    n-=1\n",
    "    if(n==0):\n",
    "        break"
   ]
  },
  {
   "cell_type": "code",
   "execution_count": null,
   "id": "9e5dcf8b",
   "metadata": {},
   "outputs": [],
   "source": [
    "print(s)"
   ]
  },
  {
   "cell_type": "code",
   "execution_count": null,
   "id": "163ff9fa",
   "metadata": {},
   "outputs": [],
   "source": []
  },
  {
   "cell_type": "code",
   "execution_count": null,
   "id": "ff21cf41",
   "metadata": {},
   "outputs": [],
   "source": []
  }
 ],
 "metadata": {
  "kernelspec": {
   "display_name": "Python 3 (ipykernel)",
   "language": "python",
   "name": "python3"
  },
  "language_info": {
   "codemirror_mode": {
    "name": "ipython",
    "version": 3
   },
   "file_extension": ".py",
   "mimetype": "text/x-python",
   "name": "python",
   "nbconvert_exporter": "python",
   "pygments_lexer": "ipython3",
   "version": "3.11.3"
  }
 },
 "nbformat": 4,
 "nbformat_minor": 5
}
